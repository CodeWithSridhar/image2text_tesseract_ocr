{
  "nbformat": 4,
  "nbformat_minor": 0,
  "metadata": {
    "colab": {
      "provenance": [],
      "mount_file_id": "1GLxZE6boA1rEO4e6oL5Fg1X7GV8csQ6Z",
      "authorship_tag": "ABX9TyPp7ER3MFW9VpR3gy8uVD03",
      "include_colab_link": true
    },
    "kernelspec": {
      "name": "python3",
      "display_name": "Python 3"
    },
    "language_info": {
      "name": "python"
    }
  },
  "cells": [
    {
      "cell_type": "markdown",
      "metadata": {
        "id": "view-in-github",
        "colab_type": "text"
      },
      "source": [
        "<a href=\"https://colab.research.google.com/github/CodeWithSridhar/image2text_tesseract_ocr/blob/main/img2text.ipynb\" target=\"_parent\"><img src=\"https://colab.research.google.com/assets/colab-badge.svg\" alt=\"Open In Colab\"/></a>"
      ]
    },
    {
      "cell_type": "code",
      "execution_count": 1,
      "metadata": {
        "colab": {
          "base_uri": "https://localhost:8080/"
        },
        "id": "oyIXpogUbMVB",
        "outputId": "f94761e1-5131-4a5a-9b88-487c3809c669"
      },
      "outputs": [
        {
          "output_type": "stream",
          "name": "stdout",
          "text": [
            "Reading package lists... Done\n",
            "Building dependency tree... Done\n",
            "Reading state information... Done\n",
            "tesseract-ocr is already the newest version (4.1.1-2.1build1).\n",
            "0 upgraded, 0 newly installed, 0 to remove and 30 not upgraded.\n",
            "Requirement already satisfied: pytesseract in /usr/local/lib/python3.10/dist-packages (0.3.10)\n",
            "Requirement already satisfied: packaging>=21.3 in /usr/local/lib/python3.10/dist-packages (from pytesseract) (23.2)\n",
            "Requirement already satisfied: Pillow>=8.0.0 in /usr/local/lib/python3.10/dist-packages (from pytesseract) (9.4.0)\n"
          ]
        }
      ],
      "source": [
        "!sudo apt install tesseract-ocr\n",
        "!pip install pytesseract"
      ]
    },
    {
      "cell_type": "code",
      "source": [
        "from google.colab import drive\n",
        "drive.mount('/content/drive')"
      ],
      "metadata": {
        "colab": {
          "base_uri": "https://localhost:8080/"
        },
        "id": "e2MX59bXcnRX",
        "outputId": "e08d3b04-f31e-45a8-def5-1e1e3adadd41"
      },
      "execution_count": 2,
      "outputs": [
        {
          "output_type": "stream",
          "name": "stdout",
          "text": [
            "Drive already mounted at /content/drive; to attempt to forcibly remount, call drive.mount(\"/content/drive\", force_remount=True).\n"
          ]
        }
      ]
    },
    {
      "cell_type": "code",
      "source": [
        "from PIL import Image\n",
        "import pytesseract\n",
        "import os\n",
        "\n",
        "# Path to the folder containing the images\n",
        "images_folder = '/content/drive/MyDrive/Image2text/input/wetransfer_image00001-jpeg_2024-01-18_1558'\n",
        "\n",
        "# Path to Tesseract OCR executable in Colab environment\n",
        "pytesseract.pytesseract.tesseract_cmd = '/usr/bin/tesseract'\n",
        "\n",
        "# Output folder for text files\n",
        "output_folder = '/content/drive/MyDrive/Image2text/output'\n",
        "\n",
        "# Create output folder if it doesn't exist\n",
        "os.makedirs(output_folder, exist_ok=True)\n",
        "\n",
        "# Iterate through each image\n",
        "for image_file in os.listdir(images_folder):\n",
        "    if image_file.endswith(('.png', '.jpg', '.jpeg')):\n",
        "        # Load image\n",
        "        image_path = os.path.join(images_folder, image_file)\n",
        "        img = Image.open(image_path)\n",
        "\n",
        "        # Extract text using Tesseract OCR\n",
        "        text = pytesseract.image_to_string(img)\n",
        "\n",
        "        # Save text to a text file\n",
        "        output_file = os.path.join(output_folder, f'{os.path.splitext(image_file)[0]}.txt')\n",
        "        with open(output_file, 'w', encoding='utf-8') as f:\n",
        "            f.write(text)\n",
        "\n"
      ],
      "metadata": {
        "id": "VPwWEByqd1TA"
      },
      "execution_count": 3,
      "outputs": []
    }
  ]
}